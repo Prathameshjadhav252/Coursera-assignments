{
 "cells": [
  {
   "cell_type": "markdown",
   "id": "7d99cb8e",
   "metadata": {},
   "source": [
    "# Data Science Tools and Ecosystem\n",
    "\n",
    "### **In this notebook, Data Science Tools and Ecosystem are summarized.**\n"
   ]
  },
  {
   "cell_type": "markdown",
   "id": "c4de1bf7",
   "metadata": {},
   "source": [
    "### Some of the popular languages that Data Scientists use are\n",
    "1. Python\n",
    "2. R\n",
    "3. SQL\n",
    "4. Java"
   ]
  },
  {
   "cell_type": "markdown",
   "id": "06484649",
   "metadata": {},
   "source": [
    "# Execute this as markdown cell\n",
    "# Some of the commonly used libraries used by Data Scientists include:\n",
    "1. Tensorflow\n",
    "2. Numpy\n",
    "3. Scipy\n",
    "4. Pandas"
   ]
  },
  {
   "cell_type": "markdown",
   "id": "0bbc6cd9",
   "metadata": {},
   "source": [
    "# Data Science Tools\n",
    "|Sr No |open source tools used for data science|\n",
    "|-- |---------------------------------------|\n",
    "|01 |Apache Spark|\n",
    "|02 |Tensor Flow|\n",
    "|03 |Hadoop|"
   ]
  },
  {
   "cell_type": "markdown",
   "id": "b0cc3310",
   "metadata": {},
   "source": [
    "### H3 : Below are a few examples of evaluating arithmetic expressions in Python "
   ]
  },
  {
   "cell_type": "code",
   "execution_count": 6,
   "id": "88232ba4",
   "metadata": {},
   "outputs": [
    {
     "name": "stdout",
     "output_type": "stream",
     "text": [
      "(a*b)+C 17\n"
     ]
    }
   ],
   "source": [
    "# This a simple arithmetic expression to mutiply then add integers.\n",
    "a= 3\n",
    "b= 4\n",
    "c= 5\n",
    "e= d+c\n",
    "print(\"(a*b)+C\",e)"
   ]
  },
  {
   "cell_type": "code",
   "execution_count": 7,
   "id": "e31f5617",
   "metadata": {},
   "outputs": [
    {
     "name": "stdout",
     "output_type": "stream",
     "text": [
      "d=a/b 3.3333333333333335\n"
     ]
    }
   ],
   "source": [
    "#This will convert 200 minutes to hours by diving by 60\n",
    "a= 200\n",
    "b= 60\n",
    "d= a/b\n",
    "print(\"d=a/b\",d)"
   ]
  },
  {
   "cell_type": "markdown",
   "id": "151d6e41",
   "metadata": {},
   "source": [
    "### some key takeways from the course\n",
    "\n",
    "**Objectieves**\n",
    "- Python\n",
    "- R\n",
    "- SQL\n",
    "- Java\n",
    "- Julia\n",
    "- Scala\n",
    "- C/C++\n",
    "- JavaScript\n",
    "- Swift\n",
    "- Go"
   ]
  },
  {
   "cell_type": "markdown",
   "id": "c3308893",
   "metadata": {},
   "source": [
    "## Author : Prathamesh Jadhav"
   ]
  }
 ],
 "metadata": {
  "kernelspec": {
   "display_name": "Python 3 (ipykernel)",
   "language": "python",
   "name": "python3"
  },
  "language_info": {
   "codemirror_mode": {
    "name": "ipython",
    "version": 3
   },
   "file_extension": ".py",
   "mimetype": "text/x-python",
   "name": "python",
   "nbconvert_exporter": "python",
   "pygments_lexer": "ipython3",
   "version": "3.11.4"
  }
 },
 "nbformat": 4,
 "nbformat_minor": 5
}
